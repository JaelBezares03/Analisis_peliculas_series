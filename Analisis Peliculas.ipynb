{
 "cells": [
  {
   "cell_type": "code",
   "execution_count": 1,
   "id": "990d2997",
   "metadata": {},
   "outputs": [],
   "source": [
    "import pandas as pd\n",
    "import matplotlib.pyplot as plt\n",
    "import seaborn as sns\n",
    "import numpy as np"
   ]
  },
  {
   "cell_type": "code",
   "execution_count": 3,
   "id": "be1c9f62",
   "metadata": {},
   "outputs": [
    {
     "data": {
      "text/html": [
       "<div>\n",
       "<style scoped>\n",
       "    .dataframe tbody tr th:only-of-type {\n",
       "        vertical-align: middle;\n",
       "    }\n",
       "\n",
       "    .dataframe tbody tr th {\n",
       "        vertical-align: top;\n",
       "    }\n",
       "\n",
       "    .dataframe thead th {\n",
       "        text-align: right;\n",
       "    }\n",
       "</style>\n",
       "<table border=\"1\" class=\"dataframe\">\n",
       "  <thead>\n",
       "    <tr style=\"text-align: right;\">\n",
       "      <th></th>\n",
       "      <th>Rank</th>\n",
       "      <th>Title</th>\n",
       "      <th>Type</th>\n",
       "      <th>Premiere</th>\n",
       "      <th>Genre</th>\n",
       "      <th>Watchtime</th>\n",
       "      <th>Watchtime in Million</th>\n",
       "    </tr>\n",
       "  </thead>\n",
       "  <tbody>\n",
       "    <tr>\n",
       "      <th>0</th>\n",
       "      <td>1.0</td>\n",
       "      <td>The Night Agent</td>\n",
       "      <td>TV Show</td>\n",
       "      <td>2023.0</td>\n",
       "      <td>Action</td>\n",
       "      <td>812,100,000</td>\n",
       "      <td>812.1M</td>\n",
       "    </tr>\n",
       "    <tr>\n",
       "      <th>1</th>\n",
       "      <td>2.0</td>\n",
       "      <td>Ginny &amp; Georgia</td>\n",
       "      <td>TV Show</td>\n",
       "      <td>2021.0</td>\n",
       "      <td>Drama</td>\n",
       "      <td>665,100,000</td>\n",
       "      <td>665.1M</td>\n",
       "    </tr>\n",
       "    <tr>\n",
       "      <th>2</th>\n",
       "      <td>3.0</td>\n",
       "      <td>The Glory</td>\n",
       "      <td>TV Show</td>\n",
       "      <td>2022.0</td>\n",
       "      <td>Thriller</td>\n",
       "      <td>622,800,000</td>\n",
       "      <td>622.8M</td>\n",
       "    </tr>\n",
       "    <tr>\n",
       "      <th>3</th>\n",
       "      <td>4.0</td>\n",
       "      <td>Wednesday</td>\n",
       "      <td>TV Show</td>\n",
       "      <td>2022.0</td>\n",
       "      <td>Fantasy</td>\n",
       "      <td>507,700,000</td>\n",
       "      <td>507.7M</td>\n",
       "    </tr>\n",
       "    <tr>\n",
       "      <th>4</th>\n",
       "      <td>5.0</td>\n",
       "      <td>Queen Charlotte: A Bridgerton Story</td>\n",
       "      <td>TV Show</td>\n",
       "      <td>2023.0</td>\n",
       "      <td>Drama</td>\n",
       "      <td>503,000,000</td>\n",
       "      <td>503.0M</td>\n",
       "    </tr>\n",
       "    <tr>\n",
       "      <th>...</th>\n",
       "      <td>...</td>\n",
       "      <td>...</td>\n",
       "      <td>...</td>\n",
       "      <td>...</td>\n",
       "      <td>...</td>\n",
       "      <td>...</td>\n",
       "      <td>...</td>\n",
       "    </tr>\n",
       "    <tr>\n",
       "      <th>18159</th>\n",
       "      <td>18210.0</td>\n",
       "      <td>Spiritual House</td>\n",
       "      <td>TV Show</td>\n",
       "      <td>2017.0</td>\n",
       "      <td>Talk Show</td>\n",
       "      <td>100,000</td>\n",
       "      <td>0.1M</td>\n",
       "    </tr>\n",
       "    <tr>\n",
       "      <th>18160</th>\n",
       "      <td>18211.0</td>\n",
       "      <td>Suite Francaise</td>\n",
       "      <td>Movie</td>\n",
       "      <td>2014.0</td>\n",
       "      <td>War</td>\n",
       "      <td>100,000</td>\n",
       "      <td>0.1M</td>\n",
       "    </tr>\n",
       "    <tr>\n",
       "      <th>18161</th>\n",
       "      <td>18212.0</td>\n",
       "      <td>The Bishop's Bedroom</td>\n",
       "      <td>Movie</td>\n",
       "      <td>1977.0</td>\n",
       "      <td>Comedy</td>\n",
       "      <td>100,000</td>\n",
       "      <td>0.1M</td>\n",
       "    </tr>\n",
       "    <tr>\n",
       "      <th>18162</th>\n",
       "      <td>18213.0</td>\n",
       "      <td>30 Chưa Phải Tết</td>\n",
       "      <td>Movie</td>\n",
       "      <td>2020.0</td>\n",
       "      <td>Comedy</td>\n",
       "      <td>100,000</td>\n",
       "      <td>0.1M</td>\n",
       "    </tr>\n",
       "    <tr>\n",
       "      <th>18163</th>\n",
       "      <td>18214.0</td>\n",
       "      <td>The Promised Land</td>\n",
       "      <td>Movie</td>\n",
       "      <td>2019.0</td>\n",
       "      <td>Crime</td>\n",
       "      <td>100,000</td>\n",
       "      <td>0.1M</td>\n",
       "    </tr>\n",
       "  </tbody>\n",
       "</table>\n",
       "<p>18164 rows × 7 columns</p>\n",
       "</div>"
      ],
      "text/plain": [
       "          Rank                                Title     Type  Premiere  \\\n",
       "0          1.0                      The Night Agent  TV Show    2023.0   \n",
       "1          2.0                      Ginny & Georgia  TV Show    2021.0   \n",
       "2          3.0                            The Glory  TV Show    2022.0   \n",
       "3          4.0                            Wednesday  TV Show    2022.0   \n",
       "4          5.0  Queen Charlotte: A Bridgerton Story  TV Show    2023.0   \n",
       "...        ...                                  ...      ...       ...   \n",
       "18159  18210.0                      Spiritual House  TV Show    2017.0   \n",
       "18160  18211.0                      Suite Francaise    Movie    2014.0   \n",
       "18161  18212.0                 The Bishop's Bedroom    Movie    1977.0   \n",
       "18162  18213.0                     30 Chưa Phải Tết    Movie    2020.0   \n",
       "18163  18214.0                    The Promised Land    Movie    2019.0   \n",
       "\n",
       "           Genre    Watchtime Watchtime in Million  \n",
       "0         Action  812,100,000               812.1M  \n",
       "1          Drama  665,100,000               665.1M  \n",
       "2       Thriller  622,800,000               622.8M  \n",
       "3        Fantasy  507,700,000               507.7M  \n",
       "4          Drama  503,000,000               503.0M  \n",
       "...          ...          ...                  ...  \n",
       "18159  Talk Show      100,000                 0.1M  \n",
       "18160        War      100,000                 0.1M  \n",
       "18161     Comedy      100,000                 0.1M  \n",
       "18162     Comedy      100,000                 0.1M  \n",
       "18163      Crime      100,000                 0.1M  \n",
       "\n",
       "[18164 rows x 7 columns]"
      ]
     },
     "execution_count": 3,
     "metadata": {},
     "output_type": "execute_result"
    }
   ],
   "source": [
    "df_peliculas = pd.read_csv('flixpatrol.csv')\n",
    "df_peliculas "
   ]
  },
  {
   "cell_type": "code",
   "execution_count": 5,
   "id": "9e3323d9",
   "metadata": {},
   "outputs": [
    {
     "data": {
      "text/plain": [
       "Rank                      0\n",
       "Title                     0\n",
       "Type                      0\n",
       "Premiere                134\n",
       "Genre                   180\n",
       "Watchtime                 0\n",
       "Watchtime in Million      0\n",
       "dtype: int64"
      ]
     },
     "execution_count": 5,
     "metadata": {},
     "output_type": "execute_result"
    }
   ],
   "source": [
    "valores_nulos = df_peliculas.isnull().sum()\n",
    "valores_nulos"
   ]
  },
  {
   "cell_type": "code",
   "execution_count": 7,
   "id": "d2b8055e",
   "metadata": {},
   "outputs": [
    {
     "data": {
      "text/html": [
       "<div>\n",
       "<style scoped>\n",
       "    .dataframe tbody tr th:only-of-type {\n",
       "        vertical-align: middle;\n",
       "    }\n",
       "\n",
       "    .dataframe tbody tr th {\n",
       "        vertical-align: top;\n",
       "    }\n",
       "\n",
       "    .dataframe thead th {\n",
       "        text-align: right;\n",
       "    }\n",
       "</style>\n",
       "<table border=\"1\" class=\"dataframe\">\n",
       "  <thead>\n",
       "    <tr style=\"text-align: right;\">\n",
       "      <th></th>\n",
       "      <th>Rank</th>\n",
       "      <th>Title</th>\n",
       "      <th>Type</th>\n",
       "      <th>Premiere</th>\n",
       "      <th>Genre</th>\n",
       "      <th>Watchtime</th>\n",
       "      <th>Watchtime in Million</th>\n",
       "    </tr>\n",
       "  </thead>\n",
       "  <tbody>\n",
       "    <tr>\n",
       "      <th>0</th>\n",
       "      <td>1.0</td>\n",
       "      <td>The Night Agent</td>\n",
       "      <td>TV Show</td>\n",
       "      <td>2023.0</td>\n",
       "      <td>Action</td>\n",
       "      <td>812,100,000</td>\n",
       "      <td>812.1M</td>\n",
       "    </tr>\n",
       "    <tr>\n",
       "      <th>1</th>\n",
       "      <td>2.0</td>\n",
       "      <td>Ginny &amp; Georgia</td>\n",
       "      <td>TV Show</td>\n",
       "      <td>2021.0</td>\n",
       "      <td>Drama</td>\n",
       "      <td>665,100,000</td>\n",
       "      <td>665.1M</td>\n",
       "    </tr>\n",
       "    <tr>\n",
       "      <th>2</th>\n",
       "      <td>3.0</td>\n",
       "      <td>The Glory</td>\n",
       "      <td>TV Show</td>\n",
       "      <td>2022.0</td>\n",
       "      <td>Thriller</td>\n",
       "      <td>622,800,000</td>\n",
       "      <td>622.8M</td>\n",
       "    </tr>\n",
       "    <tr>\n",
       "      <th>3</th>\n",
       "      <td>4.0</td>\n",
       "      <td>Wednesday</td>\n",
       "      <td>TV Show</td>\n",
       "      <td>2022.0</td>\n",
       "      <td>Fantasy</td>\n",
       "      <td>507,700,000</td>\n",
       "      <td>507.7M</td>\n",
       "    </tr>\n",
       "    <tr>\n",
       "      <th>4</th>\n",
       "      <td>5.0</td>\n",
       "      <td>Queen Charlotte: A Bridgerton Story</td>\n",
       "      <td>TV Show</td>\n",
       "      <td>2023.0</td>\n",
       "      <td>Drama</td>\n",
       "      <td>503,000,000</td>\n",
       "      <td>503.0M</td>\n",
       "    </tr>\n",
       "    <tr>\n",
       "      <th>...</th>\n",
       "      <td>...</td>\n",
       "      <td>...</td>\n",
       "      <td>...</td>\n",
       "      <td>...</td>\n",
       "      <td>...</td>\n",
       "      <td>...</td>\n",
       "      <td>...</td>\n",
       "    </tr>\n",
       "    <tr>\n",
       "      <th>18159</th>\n",
       "      <td>18210.0</td>\n",
       "      <td>Spiritual House</td>\n",
       "      <td>TV Show</td>\n",
       "      <td>2017.0</td>\n",
       "      <td>Talk Show</td>\n",
       "      <td>100,000</td>\n",
       "      <td>0.1M</td>\n",
       "    </tr>\n",
       "    <tr>\n",
       "      <th>18160</th>\n",
       "      <td>18211.0</td>\n",
       "      <td>Suite Francaise</td>\n",
       "      <td>Movie</td>\n",
       "      <td>2014.0</td>\n",
       "      <td>War</td>\n",
       "      <td>100,000</td>\n",
       "      <td>0.1M</td>\n",
       "    </tr>\n",
       "    <tr>\n",
       "      <th>18161</th>\n",
       "      <td>18212.0</td>\n",
       "      <td>The Bishop's Bedroom</td>\n",
       "      <td>Movie</td>\n",
       "      <td>1977.0</td>\n",
       "      <td>Comedy</td>\n",
       "      <td>100,000</td>\n",
       "      <td>0.1M</td>\n",
       "    </tr>\n",
       "    <tr>\n",
       "      <th>18162</th>\n",
       "      <td>18213.0</td>\n",
       "      <td>30 Chưa Phải Tết</td>\n",
       "      <td>Movie</td>\n",
       "      <td>2020.0</td>\n",
       "      <td>Comedy</td>\n",
       "      <td>100,000</td>\n",
       "      <td>0.1M</td>\n",
       "    </tr>\n",
       "    <tr>\n",
       "      <th>18163</th>\n",
       "      <td>18214.0</td>\n",
       "      <td>The Promised Land</td>\n",
       "      <td>Movie</td>\n",
       "      <td>2019.0</td>\n",
       "      <td>Crime</td>\n",
       "      <td>100,000</td>\n",
       "      <td>0.1M</td>\n",
       "    </tr>\n",
       "  </tbody>\n",
       "</table>\n",
       "<p>18164 rows × 7 columns</p>\n",
       "</div>"
      ],
      "text/plain": [
       "          Rank                                Title     Type  Premiere  \\\n",
       "0          1.0                      The Night Agent  TV Show    2023.0   \n",
       "1          2.0                      Ginny & Georgia  TV Show    2021.0   \n",
       "2          3.0                            The Glory  TV Show    2022.0   \n",
       "3          4.0                            Wednesday  TV Show    2022.0   \n",
       "4          5.0  Queen Charlotte: A Bridgerton Story  TV Show    2023.0   \n",
       "...        ...                                  ...      ...       ...   \n",
       "18159  18210.0                      Spiritual House  TV Show    2017.0   \n",
       "18160  18211.0                      Suite Francaise    Movie    2014.0   \n",
       "18161  18212.0                 The Bishop's Bedroom    Movie    1977.0   \n",
       "18162  18213.0                     30 Chưa Phải Tết    Movie    2020.0   \n",
       "18163  18214.0                    The Promised Land    Movie    2019.0   \n",
       "\n",
       "           Genre    Watchtime Watchtime in Million  \n",
       "0         Action  812,100,000               812.1M  \n",
       "1          Drama  665,100,000               665.1M  \n",
       "2       Thriller  622,800,000               622.8M  \n",
       "3        Fantasy  507,700,000               507.7M  \n",
       "4          Drama  503,000,000               503.0M  \n",
       "...          ...          ...                  ...  \n",
       "18159  Talk Show      100,000                 0.1M  \n",
       "18160        War      100,000                 0.1M  \n",
       "18161     Comedy      100,000                 0.1M  \n",
       "18162     Comedy      100,000                 0.1M  \n",
       "18163      Crime      100,000                 0.1M  \n",
       "\n",
       "[18164 rows x 7 columns]"
      ]
     },
     "execution_count": 7,
     "metadata": {},
     "output_type": "execute_result"
    }
   ],
   "source": [
    "df_peliculas_c= df_peliculas.copy()\n",
    "df_peliculas_c"
   ]
  },
  {
   "cell_type": "code",
   "execution_count": 8,
   "id": "b4bed43c",
   "metadata": {},
   "outputs": [],
   "source": [
    "df_peliculas_c['Premiere'].fillna('Unknown', inplace= True)\n",
    "df_peliculas_c['Genre'].fillna('Unknown', inplace= True)\n"
   ]
  },
  {
   "cell_type": "code",
   "execution_count": 9,
   "id": "577b00c2",
   "metadata": {},
   "outputs": [
    {
     "data": {
      "text/plain": [
       "Rank                    0\n",
       "Title                   0\n",
       "Type                    0\n",
       "Premiere                0\n",
       "Genre                   0\n",
       "Watchtime               0\n",
       "Watchtime in Million    0\n",
       "dtype: int64"
      ]
     },
     "execution_count": 9,
     "metadata": {},
     "output_type": "execute_result"
    }
   ],
   "source": [
    "valores_nulos_n = df_peliculas_c.isnull().sum()\n",
    "valores_nulos_n"
   ]
  },
  {
   "cell_type": "markdown",
   "id": "5b52be7a",
   "metadata": {},
   "source": [
    "# Distribucion de generos \n",
    "## Cuantas peliculas y cuantos programas de television hay?"
   ]
  },
  {
   "cell_type": "code",
   "execution_count": 11,
   "id": "34789a87",
   "metadata": {},
   "outputs": [
    {
     "data": {
      "text/plain": [
       "Type\n",
       "Movie      10880\n",
       "TV Show     7284\n",
       "Name: count, dtype: int64"
      ]
     },
     "execution_count": 11,
     "metadata": {},
     "output_type": "execute_result"
    }
   ],
   "source": [
    "tipo_contenido = df_peliculas_c['Type'].value_counts()\n",
    "tipo_contenido"
   ]
  },
  {
   "cell_type": "code",
   "execution_count": 16,
   "id": "8b3fcaee",
   "metadata": {},
   "outputs": [],
   "source": [
    "etiquetas = tipo_contenido.index\n",
    "valores = tipo_contenido.values\n",
    "colores = [\"#ff0054\",\"#ffbd00\"]\n"
   ]
  },
  {
   "cell_type": "code",
   "execution_count": 18,
   "id": "2d635ec5",
   "metadata": {},
   "outputs": [
    {
     "data": {
      "text/plain": [
       "<function matplotlib.pyplot.show(close=None, block=None)>"
      ]
     },
     "execution_count": 18,
     "metadata": {},
     "output_type": "execute_result"
    },
    {
     "data": {
      "image/png": "[encoded data removed]",
      "text/plain": [
       "<Figure size 640x480 with 1 Axes>"
      ]
     },
     "metadata": {},
     "output_type": "display_data"
    }
   ],
   "source": [
    "fig, ax = plt.subplots()\n",
    "ax.pie(valores, labels = etiquetas, colors = colores, autopct = '%1.1f%%')\n",
    "plt.show"
   ]
  },
  {
   "cell_type": "markdown",
   "id": "26934965",
   "metadata": {},
   "source": [
    "## ¿Cuáles son los géneros más comunes y cuáles son los menos comunes?\n"
   ]
  },
  {
   "cell_type": "code",
   "execution_count": 20,
   "id": "a84b9171",
   "metadata": {},
   "outputs": [
    {
     "data": {
      "text/plain": [
       "Genre\n",
       "Comedy             3946\n",
       "Drama              3349\n",
       "Animation          2670\n",
       "Documentary        1294\n",
       "Action             1100\n",
       "Crime              1081\n",
       "Thriller            675\n",
       "Horror              654\n",
       "Reality-Show        574\n",
       "Romance             519\n",
       "Science Fiction     398\n",
       "Fantasy             303\n",
       "Adventure           281\n",
       "Stand-Up            224\n",
       "Biography           199\n",
       "Unknown             180\n",
       "History             154\n",
       "Superhero           143\n",
       "War                  90\n",
       "Talk Show            82\n",
       "Family               72\n",
       "Western              55\n",
       "Musical              40\n",
       "Broadcast            22\n",
       "Concerts             20\n",
       "Sports               17\n",
       "Fairy Tale           12\n",
       "Game-Show             9\n",
       "News                  1\n",
       "Name: count, dtype: int64"
      ]
     },
     "execution_count": 20,
     "metadata": {},
     "output_type": "execute_result"
    }
   ],
   "source": [
    "tipos_generos = df_peliculas_c['Genre'].value_counts()\n",
    "tipos_generos"
   ]
  },
  {
   "cell_type": "code",
   "execution_count": 21,
   "id": "6f2f9836",
   "metadata": {},
   "outputs": [],
   "source": [
    "etiqueta_genero = tipos_generos.index\n",
    "valores_genero = tipos_generos.values"
   ]
  },
  {
   "cell_type": "code",
   "execution_count": 28,
   "id": "c4f932f0",
   "metadata": {},
   "outputs": [
    {
     "data": {
      "text/plain": [
       "<function matplotlib.pyplot.show(close=None, block=None)>"
      ]
     },
     "execution_count": 28,
     "metadata": {},
     "output_type": "execute_result"
    },
    {
     "data": {
      "image/png": "[encoded data removed]",
      "text/plain": [
       "<Figure size 640x480 with 1 Axes>"
      ]
     },
     "metadata": {},
     "output_type": "display_data"
    }
   ],
   "source": [
    "fig, ax = plt.subplots()\n",
    "ax.barh(etiqueta_genero, width =  valores_genero)\n",
    "ax.invert_yaxis()\n",
    "plt.show\n"
   ]
  },
  {
   "cell_type": "markdown",
   "id": "e965d4a8",
   "metadata": {},
   "source": [
    "#  ¿Cuál es la tendencia temporal de estrenos?\n",
    "## ¿Hay algún género que tienda a tener tiempos de visualización más largos que otros?"
   ]
  },
  {
   "cell_type": "code",
   "execution_count": 71,
   "id": "3dae2122",
   "metadata": {},
   "outputs": [
    {
     "data": {
      "text/html": [
       "<div>\n",
       "<style scoped>\n",
       "    .dataframe tbody tr th:only-of-type {\n",
       "        vertical-align: middle;\n",
       "    }\n",
       "\n",
       "    .dataframe tbody tr th {\n",
       "        vertical-align: top;\n",
       "    }\n",
       "\n",
       "    .dataframe thead th {\n",
       "        text-align: right;\n",
       "    }\n",
       "</style>\n",
       "<table border=\"1\" class=\"dataframe\">\n",
       "  <thead>\n",
       "    <tr style=\"text-align: right;\">\n",
       "      <th></th>\n",
       "      <th>Genre</th>\n",
       "      <th>Watchtime</th>\n",
       "    </tr>\n",
       "  </thead>\n",
       "  <tbody>\n",
       "    <tr>\n",
       "      <th>0</th>\n",
       "      <td>Action</td>\n",
       "      <td>812,100,000</td>\n",
       "    </tr>\n",
       "    <tr>\n",
       "      <th>1</th>\n",
       "      <td>Drama</td>\n",
       "      <td>665,100,000</td>\n",
       "    </tr>\n",
       "    <tr>\n",
       "      <th>2</th>\n",
       "      <td>Thriller</td>\n",
       "      <td>622,800,000</td>\n",
       "    </tr>\n",
       "    <tr>\n",
       "      <th>3</th>\n",
       "      <td>Fantasy</td>\n",
       "      <td>507,700,000</td>\n",
       "    </tr>\n",
       "    <tr>\n",
       "      <th>4</th>\n",
       "      <td>Drama</td>\n",
       "      <td>503,000,000</td>\n",
       "    </tr>\n",
       "    <tr>\n",
       "      <th>...</th>\n",
       "      <td>...</td>\n",
       "      <td>...</td>\n",
       "    </tr>\n",
       "    <tr>\n",
       "      <th>18159</th>\n",
       "      <td>Talk Show</td>\n",
       "      <td>100,000</td>\n",
       "    </tr>\n",
       "    <tr>\n",
       "      <th>18160</th>\n",
       "      <td>War</td>\n",
       "      <td>100,000</td>\n",
       "    </tr>\n",
       "    <tr>\n",
       "      <th>18161</th>\n",
       "      <td>Comedy</td>\n",
       "      <td>100,000</td>\n",
       "    </tr>\n",
       "    <tr>\n",
       "      <th>18162</th>\n",
       "      <td>Comedy</td>\n",
       "      <td>100,000</td>\n",
       "    </tr>\n",
       "    <tr>\n",
       "      <th>18163</th>\n",
       "      <td>Crime</td>\n",
       "      <td>100,000</td>\n",
       "    </tr>\n",
       "  </tbody>\n",
       "</table>\n",
       "<p>18164 rows × 2 columns</p>\n",
       "</div>"
      ],
      "text/plain": [
       "           Genre    Watchtime\n",
       "0         Action  812,100,000\n",
       "1          Drama  665,100,000\n",
       "2       Thriller  622,800,000\n",
       "3        Fantasy  507,700,000\n",
       "4          Drama  503,000,000\n",
       "...          ...          ...\n",
       "18159  Talk Show      100,000\n",
       "18160        War      100,000\n",
       "18161     Comedy      100,000\n",
       "18162     Comedy      100,000\n",
       "18163      Crime      100,000\n",
       "\n",
       "[18164 rows x 2 columns]"
      ]
     },
     "execution_count": 71,
     "metadata": {},
     "output_type": "execute_result"
    }
   ],
   "source": [
    "df_genero_tiempo = df_peliculas.loc[:,['Genre', 'Watchtime']]\n",
    "df_genero_tiempo"
   ]
  },
  {
   "cell_type": "code",
   "execution_count": 89,
   "id": "5a4eaf2a",
   "metadata": {},
   "outputs": [
    {
     "data": {
      "text/plain": [
       "Genre        object\n",
       "Watchtime     int64\n",
       "dtype: object"
      ]
     },
     "execution_count": 89,
     "metadata": {},
     "output_type": "execute_result"
    }
   ],
   "source": [
    "df_genero_tiempo['Watchtime'] = df_genero_tiempo['Watchtime'].astype(int)\n",
    "\n"
   ]
  },
  {
   "cell_type": "code",
   "execution_count": 92,
   "id": "20deb412",
   "metadata": {},
   "outputs": [
    {
     "data": {
      "text/plain": [
       "Genre\n",
       "Action              6258600000\n",
       "Adventure            982500000\n",
       "Animation          14578900000\n",
       "Biography            273500000\n",
       "Broadcast             16400000\n",
       "Comedy             14725700000\n",
       "Concerts              11700000\n",
       "Crime               9242900000\n",
       "Documentary         3313800000\n",
       "Drama              19344600000\n",
       "Fairy Tale             2000000\n",
       "Family               221900000\n",
       "Fantasy             3607000000\n",
       "Game-Show             13300000\n",
       "History             2127100000\n",
       "Horror              2543300000\n",
       "Musical              189400000\n",
       "News                   1400000\n",
       "Reality-Show        3507000000\n",
       "Romance             1046300000\n",
       "Science Fiction     2889100000\n",
       "Sports                71100000\n",
       "Stand-Up             231100000\n",
       "Superhero           2144800000\n",
       "Talk Show             68700000\n",
       "Thriller            4812700000\n",
       "War                  457000000\n",
       "Western              151300000\n",
       "Name: Watchtime, dtype: int64"
      ]
     },
     "execution_count": 92,
     "metadata": {},
     "output_type": "execute_result"
    }
   ],
   "source": [
    "df_genero_tiempo_suma = df_genero_tiempo.groupby('Genre')['Watchtime'].sum()\n",
    "df_genero_tiempo_suma"
   ]
  },
  {
   "cell_type": "code",
   "execution_count": 114,
   "id": "1d9dd340",
   "metadata": {},
   "outputs": [
    {
     "data": {
      "text/plain": [
       "Genre\n",
       "Drama        19344600000\n",
       "Comedy       14725700000\n",
       "Animation    14578900000\n",
       "Crime         9242900000\n",
       "Action        6258600000\n",
       "Name: Watchtime, dtype: int64"
      ]
     },
     "execution_count": 114,
     "metadata": {},
     "output_type": "execute_result"
    }
   ],
   "source": [
    "genero_mas_visto = df_genero_tiempo_suma.sort_values( ascending = False)\n",
    "subtabla_top = genero_mas_visto.head(5)\n",
    "subtabla_top"
   ]
  },
  {
   "cell_type": "code",
   "execution_count": 115,
   "id": "ebc99206",
   "metadata": {},
   "outputs": [],
   "source": [
    "genero_vistas = subtabla_top.index\n",
    "total_vistas = subtabla_top.values"
   ]
  },
  {
   "cell_type": "code",
   "execution_count": 118,
   "id": "758194eb",
   "metadata": {},
   "outputs": [
    {
     "data": {
      "text/plain": [
       "<Axes: xlabel='Genre'>"
      ]
     },
     "execution_count": 118,
     "metadata": {},
     "output_type": "execute_result"
    },
    {
     "data": {
      "image/png": "[encoded data removed]",
      "text/plain": [
       "<Figure size 640x480 with 1 Axes>"
      ]
     },
     "metadata": {},
     "output_type": "display_data"
    }
   ],
   "source": [
    "sns.barplot(x = genero_vistas, y = total_vistas)"
   ]
  },
  {
   "cell_type": "markdown",
   "id": "8653addf",
   "metadata": {},
   "source": [
    "## ¿Cómo varía la clasificación de visualización promedio entre películas y programas de televisión?"
   ]
  },
  {
   "cell_type": "code",
   "execution_count": 119,
   "id": "c3871e6c",
   "metadata": {},
   "outputs": [
    {
     "data": {
      "text/html": [
       "<div>\n",
       "<style scoped>\n",
       "    .dataframe tbody tr th:only-of-type {\n",
       "        vertical-align: middle;\n",
       "    }\n",
       "\n",
       "    .dataframe tbody tr th {\n",
       "        vertical-align: top;\n",
       "    }\n",
       "\n",
       "    .dataframe thead th {\n",
       "        text-align: right;\n",
       "    }\n",
       "</style>\n",
       "<table border=\"1\" class=\"dataframe\">\n",
       "  <thead>\n",
       "    <tr style=\"text-align: right;\">\n",
       "      <th></th>\n",
       "      <th>Type</th>\n",
       "      <th>Watchtime</th>\n",
       "    </tr>\n",
       "  </thead>\n",
       "  <tbody>\n",
       "    <tr>\n",
       "      <th>0</th>\n",
       "      <td>TV Show</td>\n",
       "      <td>812,100,000</td>\n",
       "    </tr>\n",
       "    <tr>\n",
       "      <th>1</th>\n",
       "      <td>TV Show</td>\n",
       "      <td>665,100,000</td>\n",
       "    </tr>\n",
       "    <tr>\n",
       "      <th>2</th>\n",
       "      <td>TV Show</td>\n",
       "      <td>622,800,000</td>\n",
       "    </tr>\n",
       "    <tr>\n",
       "      <th>3</th>\n",
       "      <td>TV Show</td>\n",
       "      <td>507,700,000</td>\n",
       "    </tr>\n",
       "    <tr>\n",
       "      <th>4</th>\n",
       "      <td>TV Show</td>\n",
       "      <td>503,000,000</td>\n",
       "    </tr>\n",
       "    <tr>\n",
       "      <th>...</th>\n",
       "      <td>...</td>\n",
       "      <td>...</td>\n",
       "    </tr>\n",
       "    <tr>\n",
       "      <th>18159</th>\n",
       "      <td>TV Show</td>\n",
       "      <td>100,000</td>\n",
       "    </tr>\n",
       "    <tr>\n",
       "      <th>18160</th>\n",
       "      <td>Movie</td>\n",
       "      <td>100,000</td>\n",
       "    </tr>\n",
       "    <tr>\n",
       "      <th>18161</th>\n",
       "      <td>Movie</td>\n",
       "      <td>100,000</td>\n",
       "    </tr>\n",
       "    <tr>\n",
       "      <th>18162</th>\n",
       "      <td>Movie</td>\n",
       "      <td>100,000</td>\n",
       "    </tr>\n",
       "    <tr>\n",
       "      <th>18163</th>\n",
       "      <td>Movie</td>\n",
       "      <td>100,000</td>\n",
       "    </tr>\n",
       "  </tbody>\n",
       "</table>\n",
       "<p>18164 rows × 2 columns</p>\n",
       "</div>"
      ],
      "text/plain": [
       "          Type    Watchtime\n",
       "0      TV Show  812,100,000\n",
       "1      TV Show  665,100,000\n",
       "2      TV Show  622,800,000\n",
       "3      TV Show  507,700,000\n",
       "4      TV Show  503,000,000\n",
       "...        ...          ...\n",
       "18159  TV Show      100,000\n",
       "18160    Movie      100,000\n",
       "18161    Movie      100,000\n",
       "18162    Movie      100,000\n",
       "18163    Movie      100,000\n",
       "\n",
       "[18164 rows x 2 columns]"
      ]
     },
     "execution_count": 119,
     "metadata": {},
     "output_type": "execute_result"
    }
   ],
   "source": [
    "peli_series_visualizaciones = df_peliculas.loc[:,['Type', 'Watchtime']]\n",
    "peli_series_visualizaciones "
   ]
  },
  {
   "cell_type": "code",
   "execution_count": 121,
   "id": "5e78513e",
   "metadata": {},
   "outputs": [],
   "source": [
    "peli_series_visualizaciones['Watchtime'] = peli_series_visualizaciones['Watchtime'].str.replace(',','')"
   ]
  },
  {
   "cell_type": "code",
   "execution_count": 122,
   "id": "d1bfc8f8",
   "metadata": {},
   "outputs": [],
   "source": [
    "peli_series_visualizaciones['Watchtime'] = peli_series_visualizaciones['Watchtime'].astype(int)"
   ]
  },
  {
   "cell_type": "code",
   "execution_count": 124,
   "id": "b29c7f3a",
   "metadata": {},
   "outputs": [
    {
     "data": {
      "text/plain": [
       "Type\n",
       "Movie      25279500000\n",
       "TV Show    67707900000\n",
       "Name: Watchtime, dtype: int64"
      ]
     },
     "execution_count": 124,
     "metadata": {},
     "output_type": "execute_result"
    }
   ],
   "source": [
    "peli_serie_suma = peli_series_visualizaciones.groupby('Type')['Watchtime'].sum()\n",
    "peli_serie_suma"
   ]
  },
  {
   "cell_type": "code",
   "execution_count": 132,
   "id": "c06fcc7e",
   "metadata": {},
   "outputs": [],
   "source": [
    "visualizaciones_tipo = peli_serie_suma.index\n",
    "datos_visualizacion = peli_serie_suma.values\n",
    "colors= ['#ff6700', '#004e98']"
   ]
  },
  {
   "cell_type": "code",
   "execution_count": 133,
   "id": "50d5f24b",
   "metadata": {},
   "outputs": [
    {
     "data": {
      "text/plain": [
       "<function matplotlib.pyplot.show(close=None, block=None)>"
      ]
     },
     "execution_count": 133,
     "metadata": {},
     "output_type": "execute_result"
    },
    {
     "data": {
      "image/png": "[encoded data removed]",
      "text/plain": [
       "<Figure size 640x480 with 1 Axes>"
      ]
     },
     "metadata": {},
     "output_type": "display_data"
    }
   ],
   "source": [
    "fig, ax = plt.subplots()\n",
    "ax.bar(x = visualizaciones_tipo, height = datos_visualizacion, color = colors)\n",
    "plt.show"
   ]
  },
  {
   "cell_type": "code",
   "execution_count": null,
   "id": "d78a03ef",
   "metadata": {},
   "outputs": [],
   "source": []
  },
  {
   "cell_type": "code",
   "execution_count": null,
   "id": "47d0c18a",
   "metadata": {},
   "outputs": [],
   "source": []
  },
  {
   "cell_type": "code",
   "execution_count": null,
   "id": "49b4f719",
   "metadata": {},
   "outputs": [],
   "source": []
  }
 ],
 "metadata": {
  "kernelspec": {
   "display_name": "Python 3 (ipykernel)",
   "language": "python",
   "name": "python3"
  },
  "language_info": {
   "codemirror_mode": {
    "name": "ipython",
    "version": 3
   },
   "file_extension": ".py",
   "mimetype": "text/x-python",
   "name": "python",
   "nbconvert_exporter": "python",
   "pygments_lexer": "ipython3",
   "version": "3.11.5"
  }
 },
 "nbformat": 4,
 "nbformat_minor": 5
}
